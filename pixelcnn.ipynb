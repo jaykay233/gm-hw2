{
 "cells": [
  {
   "cell_type": "code",
   "execution_count": null,
   "metadata": {},
   "outputs": [],
   "source": [
    "%%bash\n",
    "git clone https://github.com/jthickstun/gm-hw2\n",
    "wget https://courses.cs.washington.edu/courses/cse599i/20au/resources/data.tar.gz\n",
    "tar -xf data.tar.gz"
   ]
  },
  {
   "cell_type": "code",
   "execution_count": null,
   "metadata": {},
   "outputs": [],
   "source": [
    "import sys,os,signal\n",
    "import numpy as np\n",
    "import matplotlib.pyplot as plt\n",
    "import torch\n",
    "\n",
    "from time import time\n",
    "from torchvision import transforms\n",
    "from IPython import display\n",
    "\n",
    "sys.path.append('gm-hw2')\n",
    "import bmnist,losses,models\n",
    "\n",
    "root = 'data/'"
   ]
  },
  {
   "cell_type": "code",
   "execution_count": null,
   "metadata": {},
   "outputs": [],
   "source": [
    "os.environ['CUDA_DEVICE_ORDER']='PCI_BUS_ID'   # see issue #152\n",
    "os.environ['CUDA_VISIBLE_DEVICES']='0'\n",
    "\n",
    "def worker_init(args):\n",
    "    signal.signal(signal.SIGINT, signal.SIG_IGN)\n",
    "    \n",
    "batch_size = 100\n",
    "kwargs = {'num_workers': 2, 'pin_memory': True, 'worker_init_fn': worker_init}"
   ]
  },
  {
   "cell_type": "code",
   "execution_count": null,
   "metadata": {},
   "outputs": [],
   "source": [
    "train_set = bmnist.BinarizedMNIST(root=root, train=True)\n",
    "test_set = bmnist.BinarizedMNIST(root=root, train=False)\n",
    "\n",
    "train_loader = torch.utils.data.DataLoader(dataset=train_set,batch_size=batch_size,shuffle=True, **kwargs)\n",
    "test_loader = torch.utils.data.DataLoader(dataset=test_set,batch_size=batch_size,shuffle=False, **kwargs)"
   ]
  },
  {
   "cell_type": "code",
   "execution_count": null,
   "metadata": {},
   "outputs": [],
   "source": [
    "def print_images(x, ax, n=7, d=28, color='black'):\n",
    "    ax.cla()\n",
    "    ax.get_xaxis().set_visible(False)\n",
    "    ax.get_yaxis().set_visible(False)\n",
    "    \n",
    "    panel = np.zeros([n*d,n*d])\n",
    "    for i in range(n):\n",
    "        for j in range(n):\n",
    "            panel[i*d:(i+1)*d,j*d:(j+1)*d] = x[i*n+j,0]\n",
    "            \n",
    "    ax.imshow(panel, cmap=plt.get_cmap('Greys'))\n",
    "    plt.setp(ax.spines.values(), color=color)\n",
    "\n",
    "fig, ax = plt.subplots(figsize=(6,6))\n",
    "            \n",
    "for i, x in enumerate(train_loader):\n",
    "    print_images(x, ax)\n",
    "    break"
   ]
  },
  {
   "cell_type": "code",
   "execution_count": null,
   "metadata": {},
   "outputs": [],
   "source": [
    "g = models.PixelCNN().cuda()\n",
    "loss_func = losses.cross_entropy\n",
    "\n",
    "loss_train = []\n",
    "loss_test = []"
   ]
  },
  {
   "cell_type": "code",
   "execution_count": null,
   "metadata": {},
   "outputs": [],
   "source": [
    "fig, ax = plt.subplots(1, figsize=(6,6))\n",
    "\n",
    "optimizer = torch.optim.Adam(list(g.parameters()), lr=1e-3)\n",
    "i = 0\n",
    "t0 = time()\n",
    "for epoch in range(40):\n",
    "    if epoch == 30: optimizer.param_groups[0]['lr'] = lr = 3e-4\n",
    "    for x in train_loader:\n",
    "        x = x.cuda()\n",
    "        loss = loss_func(g(x),x)\n",
    "        \n",
    "        optimizer.zero_grad()\n",
    "        loss.backward()\n",
    "        optimizer.step()\n",
    "        \n",
    "        #\n",
    "        # book-keeping after this\n",
    "        #\n",
    "        \n",
    "        loss_train.append(loss.detach().cpu().numpy())\n",
    "        \n",
    "        if i % (1*len(train_loader)) == 0:\n",
    "            g.eval()\n",
    "            fake = g.sample(n=49).cuda()\n",
    "            display.clear_output(wait=True)\n",
    "            print_images(fake.detach().cpu(), ax, color='black')\n",
    "            display.display(plt.gcf())\n",
    "            \n",
    "            losst = 0\n",
    "            for x in test_loader:\n",
    "                x = x.cuda()                \n",
    "                losst += loss_func(g(x),x).detach()\n",
    "            \n",
    "            losst = losst.cpu().numpy() / len(test_loader)\n",
    "            print(epoch,i,time()-t0,loss.detach().cpu().numpy(),losst)\n",
    "            t0 = time()\n",
    "            g.train()\n",
    "        loss_test.append(losst)\n",
    "        i += 1"
   ]
  },
  {
   "cell_type": "code",
   "execution_count": null,
   "metadata": {},
   "outputs": [],
   "source": [
    "start = 600\n",
    "end = -1\n",
    "\n",
    "fig, axes = plt.subplots()\n",
    "fig.set_figwidth(6)\n",
    "fig.set_figheight(5)\n",
    "\n",
    "axes.set_title('likelihood value')\n",
    "axes.plot(loss_train[start:end])\n",
    "axes.plot(loss_test[start:end])"
   ]
  },
  {
   "cell_type": "code",
   "execution_count": null,
   "metadata": {},
   "outputs": [],
   "source": [
    "80.5"
   ]
  }
 ],
 "metadata": {
  "kernelspec": {
   "display_name": "Python 3",
   "language": "python",
   "name": "python3"
  },
  "language_info": {
   "codemirror_mode": {
    "name": "ipython",
    "version": 3
   },
   "file_extension": ".py",
   "mimetype": "text/x-python",
   "name": "python",
   "nbconvert_exporter": "python",
   "pygments_lexer": "ipython3",
   "version": "3.6.9"
  }
 },
 "nbformat": 4,
 "nbformat_minor": 2
}
